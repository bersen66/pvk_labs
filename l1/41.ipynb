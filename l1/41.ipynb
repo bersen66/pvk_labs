{
  "nbformat": 4,
  "nbformat_minor": 0,
  "metadata": {
    "colab": {
      "provenance": [],
      "toc_visible": true,
      "gpuType": "T4"
    },
    "kernelspec": {
      "name": "python3",
      "display_name": "Python 3"
    },
    "language_info": {
      "name": "python"
    },
    "accelerator": "GPU"
  },
  "cells": [
    {
      "cell_type": "markdown",
      "source": [
        "Проверка подключения GPU:"
      ],
      "metadata": {
        "id": "DredxIhf8PUh"
      }
    },
    {
      "cell_type": "code",
      "execution_count": null,
      "metadata": {
        "colab": {
          "base_uri": "https://localhost:8080/",
          "height": 35
        },
        "id": "ebgENAAb70u3",
        "outputId": "006d0dce-bbfd-4303-b3ed-3c68f64e0369"
      },
      "outputs": [
        {
          "output_type": "execute_result",
          "data": {
            "text/plain": [
              "'/device:GPU:0'"
            ],
            "application/vnd.google.colaboratory.intrinsic+json": {
              "type": "string"
            }
          },
          "metadata": {},
          "execution_count": 2
        }
      ],
      "source": [
        "import tensorflow as tf\n",
        "tf.test.gpu_device_name() # в случае успешности будет выдан примерно такой результат '/device:GPU:0'"
      ]
    },
    {
      "cell_type": "markdown",
      "source": [
        "Загрузка данных в формате csv"
      ],
      "metadata": {
        "id": "JqaEPQGc8b0y"
      }
    },
    {
      "cell_type": "code",
      "source": [
        "from google.colab import files\n",
        "import pandas as pd\n",
        "\n",
        "file = files.upload()\n",
        "X_train = pd.read_csv(\"xtrain.csv\", header=None)\n",
        "Y_train = pd.read_csv(\"ytrain.csv\", header=None)\n",
        "X_test = pd.read_csv(\"xtest.csv\", header=None)\n",
        "Y_test = pd.read_csv(\"ytest.csv\", header=None)"
      ],
      "metadata": {
        "colab": {
          "base_uri": "https://localhost:8080/",
          "height": 177
        },
        "id": "Tvp7EAZJ8gif",
        "outputId": "0b691c6e-923b-4358-b879-9cba3e2131c5"
      },
      "execution_count": null,
      "outputs": [
        {
          "output_type": "display_data",
          "data": {
            "text/plain": [
              "<IPython.core.display.HTML object>"
            ],
            "text/html": [
              "\n",
              "     <input type=\"file\" id=\"files-ae2ed512-6467-4713-bab7-272ee5385bd6\" name=\"files[]\" multiple disabled\n",
              "        style=\"border:none\" />\n",
              "     <output id=\"result-ae2ed512-6467-4713-bab7-272ee5385bd6\">\n",
              "      Upload widget is only available when the cell has been executed in the\n",
              "      current browser session. Please rerun this cell to enable.\n",
              "      </output>\n",
              "      <script>// Copyright 2017 Google LLC\n",
              "//\n",
              "// Licensed under the Apache License, Version 2.0 (the \"License\");\n",
              "// you may not use this file except in compliance with the License.\n",
              "// You may obtain a copy of the License at\n",
              "//\n",
              "//      http://www.apache.org/licenses/LICENSE-2.0\n",
              "//\n",
              "// Unless required by applicable law or agreed to in writing, software\n",
              "// distributed under the License is distributed on an \"AS IS\" BASIS,\n",
              "// WITHOUT WARRANTIES OR CONDITIONS OF ANY KIND, either express or implied.\n",
              "// See the License for the specific language governing permissions and\n",
              "// limitations under the License.\n",
              "\n",
              "/**\n",
              " * @fileoverview Helpers for google.colab Python module.\n",
              " */\n",
              "(function(scope) {\n",
              "function span(text, styleAttributes = {}) {\n",
              "  const element = document.createElement('span');\n",
              "  element.textContent = text;\n",
              "  for (const key of Object.keys(styleAttributes)) {\n",
              "    element.style[key] = styleAttributes[key];\n",
              "  }\n",
              "  return element;\n",
              "}\n",
              "\n",
              "// Max number of bytes which will be uploaded at a time.\n",
              "const MAX_PAYLOAD_SIZE = 100 * 1024;\n",
              "\n",
              "function _uploadFiles(inputId, outputId) {\n",
              "  const steps = uploadFilesStep(inputId, outputId);\n",
              "  const outputElement = document.getElementById(outputId);\n",
              "  // Cache steps on the outputElement to make it available for the next call\n",
              "  // to uploadFilesContinue from Python.\n",
              "  outputElement.steps = steps;\n",
              "\n",
              "  return _uploadFilesContinue(outputId);\n",
              "}\n",
              "\n",
              "// This is roughly an async generator (not supported in the browser yet),\n",
              "// where there are multiple asynchronous steps and the Python side is going\n",
              "// to poll for completion of each step.\n",
              "// This uses a Promise to block the python side on completion of each step,\n",
              "// then passes the result of the previous step as the input to the next step.\n",
              "function _uploadFilesContinue(outputId) {\n",
              "  const outputElement = document.getElementById(outputId);\n",
              "  const steps = outputElement.steps;\n",
              "\n",
              "  const next = steps.next(outputElement.lastPromiseValue);\n",
              "  return Promise.resolve(next.value.promise).then((value) => {\n",
              "    // Cache the last promise value to make it available to the next\n",
              "    // step of the generator.\n",
              "    outputElement.lastPromiseValue = value;\n",
              "    return next.value.response;\n",
              "  });\n",
              "}\n",
              "\n",
              "/**\n",
              " * Generator function which is called between each async step of the upload\n",
              " * process.\n",
              " * @param {string} inputId Element ID of the input file picker element.\n",
              " * @param {string} outputId Element ID of the output display.\n",
              " * @return {!Iterable<!Object>} Iterable of next steps.\n",
              " */\n",
              "function* uploadFilesStep(inputId, outputId) {\n",
              "  const inputElement = document.getElementById(inputId);\n",
              "  inputElement.disabled = false;\n",
              "\n",
              "  const outputElement = document.getElementById(outputId);\n",
              "  outputElement.innerHTML = '';\n",
              "\n",
              "  const pickedPromise = new Promise((resolve) => {\n",
              "    inputElement.addEventListener('change', (e) => {\n",
              "      resolve(e.target.files);\n",
              "    });\n",
              "  });\n",
              "\n",
              "  const cancel = document.createElement('button');\n",
              "  inputElement.parentElement.appendChild(cancel);\n",
              "  cancel.textContent = 'Cancel upload';\n",
              "  const cancelPromise = new Promise((resolve) => {\n",
              "    cancel.onclick = () => {\n",
              "      resolve(null);\n",
              "    };\n",
              "  });\n",
              "\n",
              "  // Wait for the user to pick the files.\n",
              "  const files = yield {\n",
              "    promise: Promise.race([pickedPromise, cancelPromise]),\n",
              "    response: {\n",
              "      action: 'starting',\n",
              "    }\n",
              "  };\n",
              "\n",
              "  cancel.remove();\n",
              "\n",
              "  // Disable the input element since further picks are not allowed.\n",
              "  inputElement.disabled = true;\n",
              "\n",
              "  if (!files) {\n",
              "    return {\n",
              "      response: {\n",
              "        action: 'complete',\n",
              "      }\n",
              "    };\n",
              "  }\n",
              "\n",
              "  for (const file of files) {\n",
              "    const li = document.createElement('li');\n",
              "    li.append(span(file.name, {fontWeight: 'bold'}));\n",
              "    li.append(span(\n",
              "        `(${file.type || 'n/a'}) - ${file.size} bytes, ` +\n",
              "        `last modified: ${\n",
              "            file.lastModifiedDate ? file.lastModifiedDate.toLocaleDateString() :\n",
              "                                    'n/a'} - `));\n",
              "    const percent = span('0% done');\n",
              "    li.appendChild(percent);\n",
              "\n",
              "    outputElement.appendChild(li);\n",
              "\n",
              "    const fileDataPromise = new Promise((resolve) => {\n",
              "      const reader = new FileReader();\n",
              "      reader.onload = (e) => {\n",
              "        resolve(e.target.result);\n",
              "      };\n",
              "      reader.readAsArrayBuffer(file);\n",
              "    });\n",
              "    // Wait for the data to be ready.\n",
              "    let fileData = yield {\n",
              "      promise: fileDataPromise,\n",
              "      response: {\n",
              "        action: 'continue',\n",
              "      }\n",
              "    };\n",
              "\n",
              "    // Use a chunked sending to avoid message size limits. See b/62115660.\n",
              "    let position = 0;\n",
              "    do {\n",
              "      const length = Math.min(fileData.byteLength - position, MAX_PAYLOAD_SIZE);\n",
              "      const chunk = new Uint8Array(fileData, position, length);\n",
              "      position += length;\n",
              "\n",
              "      const base64 = btoa(String.fromCharCode.apply(null, chunk));\n",
              "      yield {\n",
              "        response: {\n",
              "          action: 'append',\n",
              "          file: file.name,\n",
              "          data: base64,\n",
              "        },\n",
              "      };\n",
              "\n",
              "      let percentDone = fileData.byteLength === 0 ?\n",
              "          100 :\n",
              "          Math.round((position / fileData.byteLength) * 100);\n",
              "      percent.textContent = `${percentDone}% done`;\n",
              "\n",
              "    } while (position < fileData.byteLength);\n",
              "  }\n",
              "\n",
              "  // All done.\n",
              "  yield {\n",
              "    response: {\n",
              "      action: 'complete',\n",
              "    }\n",
              "  };\n",
              "}\n",
              "\n",
              "scope.google = scope.google || {};\n",
              "scope.google.colab = scope.google.colab || {};\n",
              "scope.google.colab._files = {\n",
              "  _uploadFiles,\n",
              "  _uploadFilesContinue,\n",
              "};\n",
              "})(self);\n",
              "</script> "
            ]
          },
          "metadata": {}
        },
        {
          "output_type": "stream",
          "name": "stdout",
          "text": [
            "Saving ytrain.csv to ytrain (1).csv\n",
            "Saving ytest.csv to ytest (1).csv\n",
            "Saving xtrain.csv to xtrain (1).csv\n",
            "Saving xtest.csv to xtest (1).csv\n"
          ]
        }
      ]
    },
    {
      "cell_type": "markdown",
      "source": [
        "Создание первой нейросети:"
      ],
      "metadata": {
        "id": "OvGMYGRQ8-ae"
      }
    },
    {
      "cell_type": "code",
      "source": [
        "from keras.models import Sequential\n",
        "from keras.layers import Dense\n",
        "classifier = Sequential() # Инициализация НС\n",
        "classifier.add(Dense(units = 16, activation = 'relu', input_dim = 30))\n",
        "classifier.add(Dense(units = 8, activation = 'relu'))\n",
        "classifier.add(Dense(units = 6, activation = 'relu'))\n",
        "classifier.add(Dense(units = 1, activation = 'sigmoid'))"
      ],
      "metadata": {
        "id": "_SWiWo9J9CQ-"
      },
      "execution_count": null,
      "outputs": []
    },
    {
      "cell_type": "markdown",
      "source": [
        "Указание метода оптимизации и функции потери:"
      ],
      "metadata": {
        "id": "g9JNgjIf9K4_"
      }
    },
    {
      "cell_type": "code",
      "source": [
        "classifier.compile(optimizer = 'rmsprop', loss = 'binary_crossentropy')"
      ],
      "metadata": {
        "id": "BJLUpUrz9POr"
      },
      "execution_count": null,
      "outputs": []
    },
    {
      "cell_type": "markdown",
      "source": [
        "Проведем обучение нейронной сети:"
      ],
      "metadata": {
        "id": "dGbWaQW_9YPW"
      }
    },
    {
      "cell_type": "code",
      "source": [
        "classifier.fit(X_train, Y_train, batch_size = 1, epochs = 22)"
      ],
      "metadata": {
        "colab": {
          "base_uri": "https://localhost:8080/"
        },
        "id": "sEU9SiPx9haV",
        "outputId": "78c7c4c8-6bb9-4f8c-b99e-3379b2057ffb"
      },
      "execution_count": null,
      "outputs": [
        {
          "output_type": "stream",
          "name": "stdout",
          "text": [
            "Epoch 1/22\n",
            "455/455 [==============================] - 1s 3ms/step - loss: 0.1613\n",
            "Epoch 2/22\n",
            "455/455 [==============================] - 2s 3ms/step - loss: 0.0982\n",
            "Epoch 3/22\n",
            "455/455 [==============================] - 1s 3ms/step - loss: 0.0822\n",
            "Epoch 4/22\n",
            "455/455 [==============================] - 1s 2ms/step - loss: 0.0842\n",
            "Epoch 5/22\n",
            "455/455 [==============================] - 1s 3ms/step - loss: 0.0795\n",
            "Epoch 6/22\n",
            "455/455 [==============================] - 1s 2ms/step - loss: 0.0798\n",
            "Epoch 7/22\n",
            "455/455 [==============================] - 1s 2ms/step - loss: 0.0785\n",
            "Epoch 8/22\n",
            "455/455 [==============================] - 1s 2ms/step - loss: 0.0740\n",
            "Epoch 9/22\n",
            "455/455 [==============================] - 1s 2ms/step - loss: 0.0768\n",
            "Epoch 10/22\n",
            "455/455 [==============================] - 1s 2ms/step - loss: 0.0792\n",
            "Epoch 11/22\n",
            "455/455 [==============================] - 1s 2ms/step - loss: 0.0770\n",
            "Epoch 12/22\n",
            "455/455 [==============================] - 1s 3ms/step - loss: 0.0795\n",
            "Epoch 13/22\n",
            "455/455 [==============================] - 2s 4ms/step - loss: 0.0766\n",
            "Epoch 14/22\n",
            "455/455 [==============================] - 1s 2ms/step - loss: 0.0717\n",
            "Epoch 15/22\n",
            "455/455 [==============================] - 1s 2ms/step - loss: 0.0674\n",
            "Epoch 16/22\n",
            "455/455 [==============================] - 1s 2ms/step - loss: 0.0682\n",
            "Epoch 17/22\n",
            "455/455 [==============================] - 1s 3ms/step - loss: 0.0654\n",
            "Epoch 18/22\n",
            "455/455 [==============================] - 1s 3ms/step - loss: 0.0657\n",
            "Epoch 19/22\n",
            "455/455 [==============================] - 1s 2ms/step - loss: 0.0678\n",
            "Epoch 20/22\n",
            "455/455 [==============================] - 1s 2ms/step - loss: 0.0662\n",
            "Epoch 21/22\n",
            "455/455 [==============================] - 1s 2ms/step - loss: 0.0621\n",
            "Epoch 22/22\n",
            "455/455 [==============================] - 1s 3ms/step - loss: 0.0594\n"
          ]
        },
        {
          "output_type": "execute_result",
          "data": {
            "text/plain": [
              "<keras.src.callbacks.History at 0x7bafd02da620>"
            ]
          },
          "metadata": {},
          "execution_count": 8
        }
      ]
    },
    {
      "cell_type": "markdown",
      "source": [
        "Получим набор значений, предсказанных нейросетевой моделью (наличие или\n",
        "отсутствие рака груди)."
      ],
      "metadata": {
        "id": "avsRp5Li95X9"
      }
    },
    {
      "cell_type": "code",
      "source": [
        "Y_pred = classifier.predict(X_test)\n",
        "Y_pred = [ 1 if y>=0.5 else 0 for y in Y_pred ]"
      ],
      "metadata": {
        "colab": {
          "base_uri": "https://localhost:8080/"
        },
        "id": "kgqypr0C-AUr",
        "outputId": "13397d69-d09d-478b-a3bc-2ee4e6155ef1"
      },
      "execution_count": null,
      "outputs": [
        {
          "output_type": "stream",
          "name": "stdout",
          "text": [
            "4/4 [==============================] - 0s 2ms/step\n"
          ]
        }
      ]
    },
    {
      "cell_type": "markdown",
      "source": [
        "Проведем оценку точности"
      ],
      "metadata": {
        "id": "OABkOzyy-GSV"
      }
    },
    {
      "cell_type": "code",
      "source": [
        "total = 0\n",
        "correct = 0\n",
        "wrong = 0\n",
        "for i in range(len(Y_pred)):\n",
        "  total=total+1\n",
        "  if(Y_test.at[i,0] == Y_pred[i]):\n",
        "    correct=correct+1\n",
        "  else:\n",
        "    wrong=wrong+1\n",
        "\n",
        "print(\"Total \" + str(total))\n",
        "print(\"Correct \" + str(correct))\n",
        "print(\"Wrong \" + str(wrong))"
      ],
      "metadata": {
        "colab": {
          "base_uri": "https://localhost:8080/"
        },
        "id": "PYYKIaIN-JPQ",
        "outputId": "d91ab317-dab0-49bc-e260-e6771c657f4f"
      },
      "execution_count": null,
      "outputs": [
        {
          "output_type": "stream",
          "name": "stdout",
          "text": [
            "Total 114\n",
            "Correct 111\n",
            "Wrong 3\n"
          ]
        }
      ]
    },
    {
      "cell_type": "markdown",
      "source": [
        "проведем обучение, изменив количество эпох обучения:"
      ],
      "metadata": {
        "id": "n2zcRbGi-UpM"
      }
    },
    {
      "cell_type": "code",
      "source": [
        "def print_accuracy(pred, test):\n",
        "  total = 0\n",
        "  correct = 0\n",
        "  wrong = 0\n",
        "  for i in range(len(pred)):\n",
        "    total=total+1\n",
        "    if(test.at[i,0] == pred[i]):\n",
        "      correct=correct+1\n",
        "    else:\n",
        "      wrong=wrong+1\n",
        "\n",
        "  print(\"Total \" + str(total))\n",
        "  print(\"Correct \" + str(correct))\n",
        "  print(\"Wrong \" + str(wrong))\n",
        "\n",
        "\n",
        "classifier_epoch = Sequential() # Инициализация НС\n",
        "classifier_epoch.add(Dense(units = 16, activation = 'relu', input_dim = 30))\n",
        "classifier_epoch.add(Dense(units = 8, activation = 'relu'))\n",
        "classifier_epoch.add(Dense(units = 6, activation = 'relu'))\n",
        "classifier_epoch.add(Dense(units = 1, activation = 'sigmoid'))\n",
        "\n",
        "classifier_epoch.compile(optimizer = 'rmsprop', loss = 'binary_crossentropy')\n",
        "classifier_epoch.fit(X_train, Y_train, batch_size = 1, epochs = 66)\n",
        "\n",
        "Y_pred_epoch = classifier_epoch.predict(X_test)\n",
        "Y_pred_epoch = [ 1 if y>=0.5 else 0 for y in Y_pred_epoch ]\n",
        "\n",
        "print_accuracy(Y_pred_epoch, Y_test)\n",
        "\n"
      ],
      "metadata": {
        "colab": {
          "base_uri": "https://localhost:8080/"
        },
        "id": "KleN933X_Rz0",
        "outputId": "5785e508-0abb-4827-bb9f-9fca5c6c69e4"
      },
      "execution_count": null,
      "outputs": [
        {
          "output_type": "stream",
          "name": "stdout",
          "text": [
            "Epoch 1/66\n",
            "455/455 [==============================] - 2s 3ms/step - loss: 0.2259\n",
            "Epoch 2/66\n",
            "455/455 [==============================] - 1s 3ms/step - loss: 0.1007\n",
            "Epoch 3/66\n",
            "455/455 [==============================] - 2s 3ms/step - loss: 0.0920\n",
            "Epoch 4/66\n",
            "455/455 [==============================] - 1s 3ms/step - loss: 0.0926\n",
            "Epoch 5/66\n",
            "455/455 [==============================] - 1s 3ms/step - loss: 0.0951\n",
            "Epoch 6/66\n",
            "455/455 [==============================] - 1s 3ms/step - loss: 0.0838\n",
            "Epoch 7/66\n",
            "455/455 [==============================] - 1s 3ms/step - loss: 0.0879\n",
            "Epoch 8/66\n",
            "455/455 [==============================] - 1s 3ms/step - loss: 0.0951\n",
            "Epoch 9/66\n",
            "455/455 [==============================] - 1s 3ms/step - loss: 0.0867\n",
            "Epoch 10/66\n",
            "455/455 [==============================] - 1s 3ms/step - loss: 0.1017\n",
            "Epoch 11/66\n",
            "455/455 [==============================] - 1s 2ms/step - loss: 0.0893\n",
            "Epoch 12/66\n",
            "455/455 [==============================] - 1s 2ms/step - loss: 0.0954\n",
            "Epoch 13/66\n",
            "455/455 [==============================] - 2s 3ms/step - loss: 0.0856\n",
            "Epoch 14/66\n",
            "455/455 [==============================] - 1s 3ms/step - loss: 0.1034\n",
            "Epoch 15/66\n",
            "455/455 [==============================] - 1s 3ms/step - loss: 0.0937\n",
            "Epoch 16/66\n",
            "455/455 [==============================] - 1s 3ms/step - loss: 0.0789\n",
            "Epoch 17/66\n",
            "455/455 [==============================] - 1s 3ms/step - loss: 0.0886\n",
            "Epoch 18/66\n",
            "455/455 [==============================] - 1s 3ms/step - loss: 0.0924\n",
            "Epoch 19/66\n",
            "455/455 [==============================] - 1s 3ms/step - loss: 0.0966\n",
            "Epoch 20/66\n",
            "455/455 [==============================] - 1s 3ms/step - loss: 0.1022\n",
            "Epoch 21/66\n",
            "455/455 [==============================] - 1s 3ms/step - loss: 0.0903\n",
            "Epoch 22/66\n",
            "455/455 [==============================] - 1s 3ms/step - loss: 0.1021\n",
            "Epoch 23/66\n",
            "455/455 [==============================] - 2s 4ms/step - loss: 0.0888\n",
            "Epoch 24/66\n",
            "455/455 [==============================] - 1s 3ms/step - loss: 0.1024\n",
            "Epoch 25/66\n",
            "455/455 [==============================] - 1s 3ms/step - loss: 0.0834\n",
            "Epoch 26/66\n",
            "455/455 [==============================] - 1s 3ms/step - loss: 0.1019\n",
            "Epoch 27/66\n",
            "455/455 [==============================] - 1s 2ms/step - loss: 0.1050\n",
            "Epoch 28/66\n",
            "455/455 [==============================] - 1s 3ms/step - loss: 0.0932\n",
            "Epoch 29/66\n",
            "455/455 [==============================] - 1s 3ms/step - loss: 0.1002\n",
            "Epoch 30/66\n",
            "455/455 [==============================] - 1s 3ms/step - loss: 0.0874\n",
            "Epoch 31/66\n",
            "455/455 [==============================] - 1s 2ms/step - loss: 0.0991\n",
            "Epoch 32/66\n",
            "455/455 [==============================] - 1s 3ms/step - loss: 0.0952\n",
            "Epoch 33/66\n",
            "455/455 [==============================] - 2s 4ms/step - loss: 0.0829\n",
            "Epoch 34/66\n",
            "455/455 [==============================] - 1s 3ms/step - loss: 0.0899\n",
            "Epoch 35/66\n",
            "455/455 [==============================] - 1s 3ms/step - loss: 0.0803\n",
            "Epoch 36/66\n",
            "455/455 [==============================] - 1s 3ms/step - loss: 0.0962\n",
            "Epoch 37/66\n",
            "455/455 [==============================] - 1s 3ms/step - loss: 0.0884\n",
            "Epoch 38/66\n",
            "455/455 [==============================] - 1s 3ms/step - loss: 0.0723\n",
            "Epoch 39/66\n",
            "455/455 [==============================] - 1s 3ms/step - loss: 0.0733\n",
            "Epoch 40/66\n",
            "455/455 [==============================] - 1s 3ms/step - loss: 0.0864\n",
            "Epoch 41/66\n",
            "455/455 [==============================] - 1s 3ms/step - loss: 0.0853\n",
            "Epoch 42/66\n",
            "455/455 [==============================] - 1s 3ms/step - loss: 0.0559\n",
            "Epoch 43/66\n",
            "455/455 [==============================] - 2s 4ms/step - loss: 0.0713\n",
            "Epoch 44/66\n",
            "455/455 [==============================] - 1s 3ms/step - loss: 0.0812\n",
            "Epoch 45/66\n",
            "455/455 [==============================] - 1s 3ms/step - loss: 0.0740\n",
            "Epoch 46/66\n",
            "455/455 [==============================] - 1s 2ms/step - loss: 0.0678\n",
            "Epoch 47/66\n",
            "455/455 [==============================] - 1s 3ms/step - loss: 0.0637\n",
            "Epoch 48/66\n",
            "455/455 [==============================] - 1s 3ms/step - loss: 0.0491\n",
            "Epoch 49/66\n",
            "455/455 [==============================] - 1s 3ms/step - loss: 0.0531\n",
            "Epoch 50/66\n",
            "455/455 [==============================] - 1s 3ms/step - loss: 0.0419\n",
            "Epoch 51/66\n",
            "455/455 [==============================] - 1s 3ms/step - loss: 0.0498\n",
            "Epoch 52/66\n",
            "455/455 [==============================] - 1s 3ms/step - loss: 0.0357\n",
            "Epoch 53/66\n",
            "455/455 [==============================] - 2s 4ms/step - loss: 0.0432\n",
            "Epoch 54/66\n",
            "455/455 [==============================] - 1s 3ms/step - loss: 0.0417\n",
            "Epoch 55/66\n",
            "455/455 [==============================] - 1s 3ms/step - loss: 0.0389\n",
            "Epoch 56/66\n",
            "455/455 [==============================] - 1s 3ms/step - loss: 0.0461\n",
            "Epoch 57/66\n",
            "455/455 [==============================] - 1s 2ms/step - loss: 0.0460\n",
            "Epoch 58/66\n",
            "455/455 [==============================] - 1s 2ms/step - loss: 0.0371\n",
            "Epoch 59/66\n",
            "455/455 [==============================] - 1s 3ms/step - loss: 0.0298\n",
            "Epoch 60/66\n",
            "455/455 [==============================] - 1s 2ms/step - loss: 0.0457\n",
            "Epoch 61/66\n",
            "455/455 [==============================] - 1s 3ms/step - loss: 0.0381\n",
            "Epoch 62/66\n",
            "455/455 [==============================] - 1s 3ms/step - loss: 0.0385\n",
            "Epoch 63/66\n",
            "455/455 [==============================] - 2s 4ms/step - loss: 0.0371\n",
            "Epoch 64/66\n",
            "455/455 [==============================] - 1s 3ms/step - loss: 0.0347\n",
            "Epoch 65/66\n",
            "455/455 [==============================] - 1s 3ms/step - loss: 0.0287\n",
            "Epoch 66/66\n",
            "455/455 [==============================] - 1s 3ms/step - loss: 0.0334\n",
            "4/4 [==============================] - 0s 2ms/step\n",
            "Total 114\n",
            "Correct 112\n",
            "Wrong 2\n"
          ]
        }
      ]
    },
    {
      "cell_type": "markdown",
      "source": [
        "Изменим количество слоев, нейронов и функции активации:"
      ],
      "metadata": {
        "id": "0cJMGugeBl3S"
      }
    },
    {
      "cell_type": "code",
      "source": [
        "classifier_units = Sequential() # Инициализация НС\n",
        "classifier_units.add(Dense(units = 32, activation = 'relu', input_dim = 30))\n",
        "classifier_units.add(Dense(units = 16, activation = 'relu'))\n",
        "classifier_units.add(Dense(units = 12, activation = 'relu'))\n",
        "classifier_units.add(Dense(units = 2, activation = 'sigmoid'))\n",
        "classifier_units.add(Dense(units = 1, activation = 'mish'))\n",
        "\n",
        "classifier_units.compile(optimizer = 'rmsprop', loss = 'binary_crossentropy')\n",
        "classifier_units.fit(X_train, Y_train, batch_size = 1, epochs = 22)\n",
        "\n",
        "Y_pred_units = classifier_epoch.predict(X_test)\n",
        "Y_pred_units = [ 1 if y>=0.5 else 0 for y in Y_pred_units ]\n",
        "\n",
        "print_accuracy(Y_pred_units, Y_test)"
      ],
      "metadata": {
        "colab": {
          "base_uri": "https://localhost:8080/"
        },
        "id": "Eu23HWmwBwIe",
        "outputId": "e1a3e361-70e7-45b2-b0df-990afedee858"
      },
      "execution_count": null,
      "outputs": [
        {
          "output_type": "stream",
          "name": "stdout",
          "text": [
            "Epoch 1/22\n",
            "455/455 [==============================] - 3s 3ms/step - loss: 5.5937\n",
            "Epoch 2/22\n",
            "455/455 [==============================] - 2s 3ms/step - loss: 5.5937\n",
            "Epoch 3/22\n",
            "455/455 [==============================] - 2s 4ms/step - loss: 5.5937\n",
            "Epoch 4/22\n",
            "455/455 [==============================] - 1s 3ms/step - loss: 5.5937\n",
            "Epoch 5/22\n",
            "455/455 [==============================] - 1s 3ms/step - loss: 5.5937\n",
            "Epoch 6/22\n",
            "455/455 [==============================] - 1s 3ms/step - loss: 5.5937\n",
            "Epoch 7/22\n",
            "455/455 [==============================] - 1s 3ms/step - loss: 5.5937\n",
            "Epoch 8/22\n",
            "455/455 [==============================] - 1s 3ms/step - loss: 5.5937\n",
            "Epoch 9/22\n",
            "455/455 [==============================] - 1s 3ms/step - loss: 5.5937\n",
            "Epoch 10/22\n",
            "455/455 [==============================] - 1s 3ms/step - loss: 5.5937\n",
            "Epoch 11/22\n",
            "455/455 [==============================] - 1s 3ms/step - loss: 5.5937\n",
            "Epoch 12/22\n",
            "455/455 [==============================] - 2s 4ms/step - loss: 5.5937\n",
            "Epoch 13/22\n",
            "455/455 [==============================] - 1s 3ms/step - loss: 5.5937\n",
            "Epoch 14/22\n",
            "455/455 [==============================] - 1s 3ms/step - loss: 5.5937\n",
            "Epoch 15/22\n",
            "455/455 [==============================] - 1s 3ms/step - loss: 5.5937\n",
            "Epoch 16/22\n",
            "455/455 [==============================] - 1s 3ms/step - loss: 5.5937\n",
            "Epoch 17/22\n",
            "455/455 [==============================] - 1s 3ms/step - loss: 5.5937\n",
            "Epoch 18/22\n",
            "455/455 [==============================] - 1s 3ms/step - loss: 5.5937\n",
            "Epoch 19/22\n",
            "455/455 [==============================] - 1s 3ms/step - loss: 5.5937\n",
            "Epoch 20/22\n",
            "455/455 [==============================] - 1s 3ms/step - loss: 5.5937\n",
            "Epoch 21/22\n",
            "455/455 [==============================] - 2s 4ms/step - loss: 5.5937\n",
            "Epoch 22/22\n",
            "455/455 [==============================] - 1s 3ms/step - loss: 5.5937\n",
            "4/4 [==============================] - 0s 3ms/step\n",
            "Total 114\n",
            "Correct 112\n",
            "Wrong 2\n"
          ]
        }
      ]
    },
    {
      "cell_type": "markdown",
      "source": [
        "Изменим метод оптимизации:"
      ],
      "metadata": {
        "id": "MR2I-_HbGSgB"
      }
    },
    {
      "cell_type": "code",
      "source": [
        "classifier_opts = Sequential() # Инициализация НС\n",
        "classifier_opts.add(Dense(units = 16, activation = 'relu', input_dim = 30))\n",
        "classifier_opts.add(Dense(units = 8, activation = 'relu'))\n",
        "classifier_opts.add(Dense(units = 6, activation = 'relu'))\n",
        "classifier_opts.add(Dense(units = 1, activation = 'sigmoid'))\n",
        "\n",
        "classifier_opts.compile(optimizer = 'adam', loss = 'binary_crossentropy')\n",
        "classifier_opts.fit(X_train, Y_train, batch_size = 1, epochs = 22)\n",
        "\n",
        "Y_pred_opts = classifier_epoch.predict(X_test)\n",
        "Y_pred_opts = [ 1 if y>=0.5 else 0 for y in Y_pred_opts ]\n",
        "\n",
        "print_accuracy(Y_pred_opts, Y_test)"
      ],
      "metadata": {
        "colab": {
          "base_uri": "https://localhost:8080/"
        },
        "id": "lQFnwAuxGXKz",
        "outputId": "c451ede9-16d9-491f-a995-daae27f8d1fe"
      },
      "execution_count": null,
      "outputs": [
        {
          "output_type": "stream",
          "name": "stdout",
          "text": [
            "Epoch 1/22\n",
            "455/455 [==============================] - 3s 3ms/step - loss: 0.4044\n",
            "Epoch 2/22\n",
            "455/455 [==============================] - 2s 4ms/step - loss: 0.0994\n",
            "Epoch 3/22\n",
            "455/455 [==============================] - 1s 3ms/step - loss: 0.0650\n",
            "Epoch 4/22\n",
            "455/455 [==============================] - 1s 3ms/step - loss: 0.0546\n",
            "Epoch 5/22\n",
            "455/455 [==============================] - 1s 3ms/step - loss: 0.0494\n",
            "Epoch 6/22\n",
            "455/455 [==============================] - 1s 3ms/step - loss: 0.0426\n",
            "Epoch 7/22\n",
            "455/455 [==============================] - 1s 3ms/step - loss: 0.0413\n",
            "Epoch 8/22\n",
            "455/455 [==============================] - 1s 3ms/step - loss: 0.0367\n",
            "Epoch 9/22\n",
            "455/455 [==============================] - 1s 3ms/step - loss: 0.0344\n",
            "Epoch 10/22\n",
            "455/455 [==============================] - 1s 3ms/step - loss: 0.0314\n",
            "Epoch 11/22\n",
            "455/455 [==============================] - 1s 3ms/step - loss: 0.0301\n",
            "Epoch 12/22\n",
            "455/455 [==============================] - 2s 4ms/step - loss: 0.0268\n",
            "Epoch 13/22\n",
            "455/455 [==============================] - 1s 3ms/step - loss: 0.0281\n",
            "Epoch 14/22\n",
            "455/455 [==============================] - 1s 3ms/step - loss: 0.0241\n",
            "Epoch 15/22\n",
            "455/455 [==============================] - 1s 3ms/step - loss: 0.0215\n",
            "Epoch 16/22\n",
            "455/455 [==============================] - 1s 3ms/step - loss: 0.0197\n",
            "Epoch 17/22\n",
            "455/455 [==============================] - 1s 3ms/step - loss: 0.0186\n",
            "Epoch 18/22\n",
            "455/455 [==============================] - 1s 3ms/step - loss: 0.0195\n",
            "Epoch 19/22\n",
            "455/455 [==============================] - 1s 3ms/step - loss: 0.0155\n",
            "Epoch 20/22\n",
            "455/455 [==============================] - 1s 3ms/step - loss: 0.0257\n",
            "Epoch 21/22\n",
            "455/455 [==============================] - 2s 3ms/step - loss: 0.0148\n",
            "Epoch 22/22\n",
            "455/455 [==============================] - 2s 3ms/step - loss: 0.0110\n",
            "4/4 [==============================] - 0s 3ms/step\n",
            "Total 114\n",
            "Correct 112\n",
            "Wrong 2\n"
          ]
        }
      ]
    }
  ]
}